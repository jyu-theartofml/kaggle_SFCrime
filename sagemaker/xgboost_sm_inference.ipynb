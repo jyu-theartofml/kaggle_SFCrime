{
 "cells": [
  {
   "cell_type": "markdown",
   "metadata": {},
   "source": [
    "# Invoking sagemaker endpoint from a local computer\n",
    "https://github.com/awslabs/amazon-sagemaker-examples/issues/589\n",
    "https://towardsdatascience.com/sharing-your-sagemaker-model-eaa6c5d9ecb5\n"
   ]
  },
  {
   "cell_type": "code",
   "execution_count": 39,
   "metadata": {},
   "outputs": [],
   "source": [
    "import numpy as np\n",
    "import pandas as pd\n",
    "from sklearn.model_selection import train_test_split\n",
    "from sklearn import preprocessing\n",
    "import matplotlib.pyplot as plt\n",
    "from sklearn.metrics import log_loss\n",
    "import io\n",
    "import os\n",
    "import datetime as dt\n",
    "import pickle as pkl\n",
    "import boto3\n",
    "import json\n",
    "\n",
    "import sagemaker\n",
    "from sagemaker import get_execution_role\n",
    "from sagemaker.tuner import IntegerParameter, CategoricalParameter, ContinuousParameter, HyperparameterTuner, IntegerParameter\n",
    "from sagemaker.amazon.amazon_estimator import get_image_uri\n",
    "from sagemaker.predictor import csv_serializer, json_deserializer"
   ]
  },
  {
   "cell_type": "markdown",
   "metadata": {},
   "source": [
    "##  use a third party account that is configured locally via aws cli with the profile name tester\n"
   ]
  },
  {
   "cell_type": "code",
   "execution_count": 99,
   "metadata": {},
   "outputs": [],
   "source": [
    "session= boto3.Session(profile_name='tester', region_name='us-west-2')"
   ]
  },
  {
   "cell_type": "code",
   "execution_count": 100,
   "metadata": {},
   "outputs": [],
   "source": [
    "client = session.client('sts') "
   ]
  },
  {
   "cell_type": "code",
   "execution_count": 101,
   "metadata": {},
   "outputs": [],
   "source": [
    "response = client.assume_role(\n",
    "    RoleArn=\"arn:aws:iam::639464939556:role/validator\",\n",
    "    RoleSessionName=\"testSessionName\",\n",
    "    ExternalId='639464939556')\n",
    "    # roles cannot be consumed by root account, must use user generated aws config!"
   ]
  },
  {
   "cell_type": "code",
   "execution_count": 104,
   "metadata": {},
   "outputs": [],
   "source": [
    "# Create boto client and required to specify region_name\n",
    "client = boto3.client('sagemaker-runtime',   \n",
    "                      aws_access_key_id=response[\"Credentials\"][\"AccessKeyId\"],    \n",
    "                      aws_secret_access_key=response[\"Credentials\"][\"SecretAccessKey\"],   \n",
    "                      aws_session_token=response[\"Credentials\"][\"SessionToken\"],\n",
    "                      region_name='us-west-2')"
   ]
  },
  {
   "cell_type": "code",
   "execution_count": 47,
   "metadata": {},
   "outputs": [],
   "source": [
    "payload = pd.read_csv('validation.csv')[:20]\n",
    "payload.drop(payload.columns[0], axis=1, inplace=True)\n",
    "payload_file = io.StringIO()\n",
    "\n",
    "# StringIO reads and writes a string buffer (also known as memory files).\n",
    "# io.StringIO is a class. It handles Unicode. It reflects the preferred Python 3 library structure.\n",
    "# saves dataframe to string IO\n",
    "payload.to_csv(payload_file, header = None, index = None)"
   ]
  },
  {
   "cell_type": "code",
   "execution_count": 97,
   "metadata": {},
   "outputs": [
    {
     "data": {
      "text/plain": [
       "'16.0,16.0,16.0,36.0,21.0,21.0,16.0,1.0,21.0,7.0,16.0,21.0,7.0,21.0,16.0,7.0,20.0,21.0,16.0,16.0'"
      ]
     },
     "execution_count": 97,
     "metadata": {},
     "output_type": "execute_result"
    }
   ],
   "source": [
    "endpoint_name='sagemaker-xgboost-200204-1841-002-fc901d44'\n",
    "response = client.invoke_endpoint(\n",
    "    EndpointName= endpoint_name,\n",
    "    Body= payload_file.getvalue(),\n",
    "    ContentType = 'text/csv')\n",
    "\n",
    "str_result = response['Body'].read().decode()\n",
    "str_result"
   ]
  },
  {
   "cell_type": "code",
   "execution_count": 95,
   "metadata": {},
   "outputs": [
    {
     "data": {
      "text/plain": [
       "[16, 16, 16, 36, 21, 21, 16, 1, 21, 7, 16, 21, 7, 21, 16, 7, 20, 21, 16, 16]"
      ]
     },
     "execution_count": 95,
     "metadata": {},
     "output_type": "execute_result"
    }
   ],
   "source": [
    "int_result=list(map(float, str_result.split(',')))\n",
    "results = [int(i) for i in int_result]\n",
    "results"
   ]
  },
  {
   "cell_type": "code",
   "execution_count": null,
   "metadata": {},
   "outputs": [],
   "source": []
  }
 ],
 "metadata": {
  "kernelspec": {
   "display_name": "Python 3",
   "language": "python",
   "name": "python3"
  },
  "language_info": {
   "codemirror_mode": {
    "name": "ipython",
    "version": 3
   },
   "file_extension": ".py",
   "mimetype": "text/x-python",
   "name": "python",
   "nbconvert_exporter": "python",
   "pygments_lexer": "ipython3",
   "version": "3.7.4"
  }
 },
 "nbformat": 4,
 "nbformat_minor": 2
}

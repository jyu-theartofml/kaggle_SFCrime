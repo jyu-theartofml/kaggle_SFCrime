{
 "cells": [
  {
   "cell_type": "markdown",
   "metadata": {},
   "source": [
    "# Inspired by these blog posts:\n",
    "https://towardsdatascience.com/xgboost-in-amazon-sagemaker-28e5e354dbcd\n",
    "https://github.com/awslabs/amazon-sagemaker-examples/blob/master/hyperparameter_tuning/xgboost_random_log/hpo_xgboost_random_log.ipynb\n",
    "https://github.com/awslabs/amazon-sagemaker-examples/blob/master/introduction_to_amazon_algorithms/xgboost_abalone/xgboost_abalone.ipynb\n",
    "\n",
    "https://aws.amazon.com/blogs/machine-learning/amazon-sagemaker-automatic-model-tuning-now-supports-random-search-and-hyperparameter-scaling/\n",
    "https://sagemaker.readthedocs.io/en/stable/tuner.html\n",
    "\n",
    "Train xgboost with Python SDK"
   ]
  },
  {
   "cell_type": "code",
   "execution_count": 1,
   "metadata": {},
   "outputs": [],
   "source": [
    "import numpy as np\n",
    "import pandas as pd\n",
    "from sklearn.model_selection import train_test_split\n",
    "from sklearn import preprocessing\n",
    "import matplotlib.pyplot as plt\n",
    "from sklearn.metrics import log_loss\n",
    "import io\n",
    "import os\n",
    "import datetime as dt\n",
    "import pickle as pkl\n",
    "import boto3\n",
    "\n",
    "import sagemaker\n",
    "from sagemaker import get_execution_role\n",
    "from sagemaker.tuner import IntegerParameter, CategoricalParameter, ContinuousParameter, HyperparameterTuner, IntegerParameter\n",
    "from sagemaker.amazon.amazon_estimator import get_image_uri\n",
    "from sagemaker.predictor import csv_serializer, json_deserializer"
   ]
  },
  {
   "cell_type": "code",
   "execution_count": 2,
   "metadata": {},
   "outputs": [],
   "source": [
    "role = get_execution_role() \n",
    "region = boto3.Session().region_name\n",
    "bucket = 'kaggle.sf.crime'\n",
    "filename='raw_data.csv'"
   ]
  },
  {
   "cell_type": "code",
   "execution_count": 9,
   "metadata": {},
   "outputs": [],
   "source": [
    "\n",
    "raw_data=pd.read_csv('s3://{}/{}'.format(bucket, filename),\n",
    "                     parse_dates=['Dates'], low_memory=False)"
   ]
  },
  {
   "cell_type": "markdown",
   "metadata": {},
   "source": [
    "## preprocess the data"
   ]
  },
  {
   "cell_type": "code",
   "execution_count": 10,
   "metadata": {},
   "outputs": [],
   "source": [
    "hour = raw_data.Dates.dt.hour\n",
    "raw_data['hour']=hour\n",
    "month=pd.get_dummies(raw_data.Dates.dt.month)\n",
    "neighborhood = pd.get_dummies(raw_data.PdDistrict)\n",
    "month.columns=['Jan','Feb','March','April','May','June','July','Aug','Sep','Oct','Nov','Dec']\n"
   ]
  },
  {
   "cell_type": "code",
   "execution_count": 11,
   "metadata": {},
   "outputs": [],
   "source": [
    "#Convert crime labels to label numbers named cData\n",
    "CrimeData = preprocessing.LabelEncoder()\n",
    "cData = CrimeData.fit_transform(raw_data.Category)"
   ]
  },
  {
   "cell_type": "code",
   "execution_count": 12,
   "metadata": {},
   "outputs": [],
   "source": [
    "concat_df = pd.concat([ month,neighborhood, raw_data.hour], axis=1)\n",
    "concat_df ['crime']=cData\n",
    "concat_df ['Y']=raw_data['Y']\n",
    "concat_df ['X']=raw_data['X']"
   ]
  },
  {
   "cell_type": "code",
   "execution_count": 13,
   "metadata": {},
   "outputs": [],
   "source": [
    "# to ensure the target variable is in teh first column\n",
    "cols = list(concat_df)\n",
    "cols.insert(0, cols.pop(cols.index('crime')))\n",
    "concat_df = concat_df.loc[:, cols]"
   ]
  },
  {
   "cell_type": "markdown",
   "metadata": {},
   "source": [
    "len(concat_df['crime'].unique().tolist())"
   ]
  },
  {
   "cell_type": "markdown",
   "metadata": {},
   "source": [
    "## After splitting into training/validation (80/20), push to S3 bucket by upload_file to the Object created"
   ]
  },
  {
   "cell_type": "code",
   "execution_count": 16,
   "metadata": {},
   "outputs": [
    {
     "name": "stderr",
     "output_type": "stream",
     "text": [
      "/home/ec2-user/anaconda3/envs/python3/lib/python3.6/site-packages/sklearn/model_selection/_split.py:2179: FutureWarning: From version 0.21, test_size will always complement train_size unless both are specified.\n",
      "  FutureWarning)\n"
     ]
    }
   ],
   "source": [
    "training, validation= train_test_split(concat_df, train_size=.8, random_state=3)"
   ]
  },
  {
   "cell_type": "code",
   "execution_count": 93,
   "metadata": {},
   "outputs": [],
   "source": [
    "training.to_csv('training.csv',index=False, header=False)\n",
    "validation.to_csv('validation.csv',index=False, header=False)"
   ]
  },
  {
   "cell_type": "code",
   "execution_count": 95,
   "metadata": {},
   "outputs": [],
   "source": [
    "boto3.Session().resource('s3').Bucket(bucket).Object('train/train.csv').upload_file('training.csv')\n",
    "boto3.Session().resource('s3').Bucket(bucket).Object('validation/validation.csv').upload_file('validation.csv')"
   ]
  },
  {
   "cell_type": "code",
   "execution_count": 3,
   "metadata": {},
   "outputs": [],
   "source": [
    "## Specifies the path to the files in S3 bucket\n",
    "s3_input_train = sagemaker.s3_input(s3_data='s3://{}/train/'.format(bucket), content_type='csv')\n",
    "s3_input_validation = sagemaker.s3_input(s3_data='s3://{}/validation/'.format(bucket), content_type='csv')"
   ]
  },
  {
   "cell_type": "markdown",
   "metadata": {},
   "source": [
    "# train the sagemaker model with hyperparameter tuning"
   ]
  },
  {
   "cell_type": "code",
   "execution_count": 32,
   "metadata": {},
   "outputs": [],
   "source": [
    "sess = sagemaker.Session()\n",
    "container = get_image_uri(region, 'xgboost', '0.90-1')\n",
    "\n",
    "\n",
    "xgb = sagemaker.estimator.Estimator(container,\n",
    "                                    role, \n",
    "                                    train_instance_count=1, \n",
    "                                    train_instance_type='ml.m4.xlarge',\n",
    "                                    output_path='s3://{}/output/'.format(bucket),\n",
    "                                    sagemaker_session=sess)\n",
    "\n",
    "# for multiclass target, need to specify num_class, otherwise it won't work, for some reason, can't change learning rate\n",
    "\n",
    "xgb.set_hyperparameters(\n",
    "    objective='multi:softmax', #\"multi:softmax\"\n",
    "    eval_metric='merror',\n",
    "    num_round=100, #30-53 minutes for two hyperparameter, very long\n",
    "    colsample_bytree=1,\n",
    "    gamma=1.2,\n",
    "    seed=2,\n",
    "    num_class=len(concat_df['crime'].unique().tolist())\n",
    ")\n",
    "objective_metric_name = 'validation:merror'"
   ]
  },
  {
   "cell_type": "code",
   "execution_count": 33,
   "metadata": {},
   "outputs": [],
   "source": [
    "hyperparameter_ranges = {\n",
    "    'subsample': ContinuousParameter(0.5, 1),\n",
    "    'max_depth': IntegerParameter(3, 10)\n",
    "}"
   ]
  },
  {
   "cell_type": "code",
   "execution_count": 34,
   "metadata": {},
   "outputs": [],
   "source": [
    "gridsearch= HyperparameterTuner(\n",
    "    xgb,\n",
    "    objective_metric_name,\n",
    "    hyperparameter_ranges,\n",
    "    objective_type='Minimize',\n",
    "    max_jobs=5,\n",
    "    max_parallel_jobs=10,\n",
    "    early_stopping_type='Auto',\n",
    "    strategy='Random')\n",
    "\n",
    "gridsearch.fit({'train': s3_input_train, 'validation': s3_input_validation}, include_cls_metadata=False)"
   ]
  },
  {
   "cell_type": "code",
   "execution_count": 35,
   "metadata": {},
   "outputs": [
    {
     "data": {
      "text/plain": [
       "'InProgress'"
      ]
     },
     "execution_count": 35,
     "metadata": {},
     "output_type": "execute_result"
    }
   ],
   "source": [
    "# check progress of gridsearch\n",
    "boto3.client('sagemaker').describe_hyper_parameter_tuning_job(\n",
    "    HyperParameterTuningJobName=gridsearch.latest_tuning_job.job_name)['HyperParameterTuningJobStatus']"
   ]
  },
  {
   "cell_type": "code",
   "execution_count": 50,
   "metadata": {},
   "outputs": [
    {
     "data": {
      "text/html": [
       "<div>\n",
       "<style scoped>\n",
       "    .dataframe tbody tr th:only-of-type {\n",
       "        vertical-align: middle;\n",
       "    }\n",
       "\n",
       "    .dataframe tbody tr th {\n",
       "        vertical-align: top;\n",
       "    }\n",
       "\n",
       "    .dataframe thead th {\n",
       "        text-align: right;\n",
       "    }\n",
       "</style>\n",
       "<table border=\"1\" class=\"dataframe\">\n",
       "  <thead>\n",
       "    <tr style=\"text-align: right;\">\n",
       "      <th></th>\n",
       "      <th>FinalObjectiveValue</th>\n",
       "      <th>TrainingElapsedTimeSeconds</th>\n",
       "      <th>TrainingEndTime</th>\n",
       "      <th>TrainingJobName</th>\n",
       "      <th>TrainingJobStatus</th>\n",
       "      <th>TrainingStartTime</th>\n",
       "      <th>subsample</th>\n",
       "    </tr>\n",
       "  </thead>\n",
       "  <tbody>\n",
       "    <tr>\n",
       "      <th>0</th>\n",
       "      <td>0.726957</td>\n",
       "      <td>140.0</td>\n",
       "      <td>2020-02-04 20:21:00+00:00</td>\n",
       "      <td>sagemaker-xgboost-200204-2016-004-ac2e1966</td>\n",
       "      <td>Stopped</td>\n",
       "      <td>2020-02-04 20:18:40+00:00</td>\n",
       "      <td>0.826949</td>\n",
       "    </tr>\n",
       "    <tr>\n",
       "      <th>1</th>\n",
       "      <td>0.714692</td>\n",
       "      <td>2984.0</td>\n",
       "      <td>2020-02-04 21:08:26+00:00</td>\n",
       "      <td>sagemaker-xgboost-200204-2016-003-888ebeff</td>\n",
       "      <td>Completed</td>\n",
       "      <td>2020-02-04 20:18:42+00:00</td>\n",
       "      <td>0.918560</td>\n",
       "    </tr>\n",
       "    <tr>\n",
       "      <th>2</th>\n",
       "      <td>0.716856</td>\n",
       "      <td>3227.0</td>\n",
       "      <td>2020-02-04 21:12:11+00:00</td>\n",
       "      <td>sagemaker-xgboost-200204-2016-002-a6dfadb9</td>\n",
       "      <td>Completed</td>\n",
       "      <td>2020-02-04 20:18:24+00:00</td>\n",
       "      <td>0.750840</td>\n",
       "    </tr>\n",
       "    <tr>\n",
       "      <th>3</th>\n",
       "      <td>0.729605</td>\n",
       "      <td>118.0</td>\n",
       "      <td>2020-02-04 20:21:00+00:00</td>\n",
       "      <td>sagemaker-xgboost-200204-2016-001-6bf72778</td>\n",
       "      <td>Stopped</td>\n",
       "      <td>2020-02-04 20:19:02+00:00</td>\n",
       "      <td>0.501434</td>\n",
       "    </tr>\n",
       "  </tbody>\n",
       "</table>\n",
       "</div>"
      ],
      "text/plain": [
       "   FinalObjectiveValue  TrainingElapsedTimeSeconds           TrainingEndTime  \\\n",
       "0             0.726957                       140.0 2020-02-04 20:21:00+00:00   \n",
       "1             0.714692                      2984.0 2020-02-04 21:08:26+00:00   \n",
       "2             0.716856                      3227.0 2020-02-04 21:12:11+00:00   \n",
       "3             0.729605                       118.0 2020-02-04 20:21:00+00:00   \n",
       "\n",
       "                              TrainingJobName TrainingJobStatus  \\\n",
       "0  sagemaker-xgboost-200204-2016-004-ac2e1966           Stopped   \n",
       "1  sagemaker-xgboost-200204-2016-003-888ebeff         Completed   \n",
       "2  sagemaker-xgboost-200204-2016-002-a6dfadb9         Completed   \n",
       "3  sagemaker-xgboost-200204-2016-001-6bf72778           Stopped   \n",
       "\n",
       "          TrainingStartTime  subsample  \n",
       "0 2020-02-04 20:18:40+00:00   0.826949  \n",
       "1 2020-02-04 20:18:42+00:00   0.918560  \n",
       "2 2020-02-04 20:18:24+00:00   0.750840  \n",
       "3 2020-02-04 20:19:02+00:00   0.501434  "
      ]
     },
     "execution_count": 50,
     "metadata": {},
     "output_type": "execute_result"
    }
   ],
   "source": [
    "sagemaker.HyperparameterTuningJobAnalytics(gridsearch.latest_tuning_job.job_name).dataframe()"
   ]
  },
  {
   "cell_type": "markdown",
   "metadata": {},
   "source": [
    "## to automate attachment of the best train job from gridearch"
   ]
  },
  {
   "cell_type": "code",
   "execution_count": 56,
   "metadata": {},
   "outputs": [
    {
     "name": "stdout",
     "output_type": "stream",
     "text": [
      "sagemaker-xgboost-200204-2016-003-888ebeff\n",
      "2020-02-04 21:08:26 Starting - Preparing the instances for training\n",
      "2020-02-04 21:08:26 Downloading - Downloading input data\n",
      "2020-02-04 21:08:26 Training - Training image download completed. Training in progress.\n",
      "2020-02-04 21:08:26 Uploading - Uploading generated training model\n",
      "2020-02-04 21:08:26 Completed - Training job completed\u001b[34mINFO:sagemaker-containers:Imported framework sagemaker_xgboost_container.training\u001b[0m\n",
      "\u001b[34mINFO:sagemaker-containers:Failed to parse hyperparameter eval_metric value merror to Json.\u001b[0m\n",
      "\u001b[34mReturning the value itself\u001b[0m\n",
      "\u001b[34mINFO:sagemaker-containers:Failed to parse hyperparameter _tuning_objective_metric value validation:merror to Json.\u001b[0m\n",
      "\u001b[34mReturning the value itself\u001b[0m\n",
      "\u001b[34mINFO:sagemaker-containers:Failed to parse hyperparameter objective value multi:softmax to Json.\u001b[0m\n",
      "\u001b[34mReturning the value itself\u001b[0m\n",
      "\u001b[34mINFO:sagemaker-containers:No GPUs detected (normal if no gpus installed)\u001b[0m\n",
      "\u001b[34mINFO:sagemaker_xgboost_container.training:Running XGBoost Sagemaker in algorithm mode\u001b[0m\n",
      "\u001b[34mINFO:root:Determined delimiter of CSV input is ','\u001b[0m\n",
      "\u001b[34mINFO:root:Determined delimiter of CSV input is ','\u001b[0m\n",
      "\u001b[34mINFO:root:Determined delimiter of CSV input is ','\u001b[0m\n",
      "\u001b[34m[20:19:32] 702439x25 matrix with 17560975 entries loaded from /opt/ml/input/data/train?format=csv&label_column=0&delimiter=,\u001b[0m\n",
      "\u001b[34mINFO:root:Determined delimiter of CSV input is ','\u001b[0m\n",
      "\u001b[34m[20:19:32] 175610x25 matrix with 4390250 entries loaded from /opt/ml/input/data/validation?format=csv&label_column=0&delimiter=,\u001b[0m\n",
      "\u001b[34mINFO:root:Single node training.\u001b[0m\n",
      "\u001b[34mINFO:root:Setting up HPO optimized metric to be : merror\u001b[0m\n",
      "\u001b[34mINFO:root:Train matrix has 702439 rows\u001b[0m\n",
      "\u001b[34mINFO:root:Validation matrix has 175610 rows\u001b[0m\n",
      "\u001b[34m[0]#011train-merror:0.735123#011validation-merror:0.740823\u001b[0m\n",
      "\u001b[34m[1]#011train-merror:0.727188#011validation-merror:0.73592\u001b[0m\n",
      "\u001b[34m[2]#011train-merror:0.723321#011validation-merror:0.73333\u001b[0m\n",
      "\u001b[34m[3]#011train-merror:0.721362#011validation-merror:0.732031\u001b[0m\n",
      "\u001b[34m[4]#011train-merror:0.719495#011validation-merror:0.730813\u001b[0m\n",
      "\u001b[34m[5]#011train-merror:0.71713#011validation-merror:0.729617\u001b[0m\n",
      "\u001b[34m[6]#011train-merror:0.715157#011validation-merror:0.728159\u001b[0m\n",
      "\u001b[34m[7]#011train-merror:0.713779#011validation-merror:0.727333\u001b[0m\n",
      "\u001b[34m[8]#011train-merror:0.712515#011validation-merror:0.726826\u001b[0m\n",
      "\u001b[34m[9]#011train-merror:0.711571#011validation-merror:0.726758\u001b[0m\n",
      "\u001b[34m[10]#011train-merror:0.710719#011validation-merror:0.726485\u001b[0m\n",
      "\u001b[34m[11]#011train-merror:0.709821#011validation-merror:0.726314\u001b[0m\n",
      "\u001b[34m[12]#011train-merror:0.708907#011validation-merror:0.726297\u001b[0m\n",
      "\u001b[34m[13]#011train-merror:0.708104#011validation-merror:0.726052\u001b[0m\n",
      "\u001b[34m[14]#011train-merror:0.707214#011validation-merror:0.725767\u001b[0m\n",
      "\u001b[34m[15]#011train-merror:0.706699#011validation-merror:0.725676\u001b[0m\n",
      "\u001b[34m[16]#011train-merror:0.705984#011validation-merror:0.725443\u001b[0m\n",
      "\u001b[34m[17]#011train-merror:0.704769#011validation-merror:0.725084\u001b[0m\n",
      "\u001b[34m[18]#011train-merror:0.704225#011validation-merror:0.724839\u001b[0m\n",
      "\u001b[34m[19]#011train-merror:0.703717#011validation-merror:0.724657\u001b[0m\n",
      "\u001b[34m[20]#011train-merror:0.703079#011validation-merror:0.724566\u001b[0m\n",
      "\u001b[34m[21]#011train-merror:0.702339#011validation-merror:0.724236\u001b[0m\n",
      "\u001b[34m[22]#011train-merror:0.701665#011validation-merror:0.724099\u001b[0m\n",
      "\u001b[34m[23]#011train-merror:0.700958#011validation-merror:0.723826\u001b[0m\n",
      "\u001b[34m[24]#011train-merror:0.700136#011validation-merror:0.723603\u001b[0m\n",
      "\u001b[34m[25]#011train-merror:0.699219#011validation-merror:0.723136\u001b[0m\n",
      "\u001b[34m[26]#011train-merror:0.698629#011validation-merror:0.722914\u001b[0m\n",
      "\u001b[34m[27]#011train-merror:0.698066#011validation-merror:0.722721\u001b[0m\n",
      "\u001b[34m[28]#011train-merror:0.697245#011validation-merror:0.722197\u001b[0m\n",
      "\u001b[34m[29]#011train-merror:0.696624#011validation-merror:0.721861\u001b[0m\n",
      "\u001b[34m[30]#011train-merror:0.696089#011validation-merror:0.721764\u001b[0m\n",
      "\u001b[34m[31]#011train-merror:0.695612#011validation-merror:0.721764\u001b[0m\n",
      "\u001b[34m[32]#011train-merror:0.695055#011validation-merror:0.721673\u001b[0m\n",
      "\u001b[34m[33]#011train-merror:0.694453#011validation-merror:0.721366\u001b[0m\n",
      "\u001b[34m[34]#011train-merror:0.693921#011validation-merror:0.721246\u001b[0m\n",
      "\u001b[34m[35]#011train-merror:0.693393#011validation-merror:0.721047\u001b[0m\n",
      "\u001b[34m[36]#011train-merror:0.692714#011validation-merror:0.720739\u001b[0m\n",
      "\u001b[34m[37]#011train-merror:0.692183#011validation-merror:0.720244\u001b[0m\n",
      "\u001b[34m[38]#011train-merror:0.691624#011validation-merror:0.72005\u001b[0m\n",
      "\u001b[34m[39]#011train-merror:0.690896#011validation-merror:0.719754\u001b[0m\n",
      "\u001b[34m[40]#011train-merror:0.690397#011validation-merror:0.7198\u001b[0m\n",
      "\u001b[34m[41]#011train-merror:0.689868#011validation-merror:0.719577\u001b[0m\n",
      "\u001b[34m[42]#011train-merror:0.689224#011validation-merror:0.719555\u001b[0m\n",
      "\u001b[34m[43]#011train-merror:0.688804#011validation-merror:0.719446\u001b[0m\n",
      "\u001b[34m[44]#011train-merror:0.688228#011validation-merror:0.71919\u001b[0m\n",
      "\u001b[34m[45]#011train-merror:0.687868#011validation-merror:0.719071\u001b[0m\n",
      "\u001b[34m[46]#011train-merror:0.687364#011validation-merror:0.719065\u001b[0m\n",
      "\u001b[34m[47]#011train-merror:0.687025#011validation-merror:0.718962\u001b[0m\n",
      "\u001b[34m[48]#011train-merror:0.686487#011validation-merror:0.718906\u001b[0m\n",
      "\u001b[34m[49]#011train-merror:0.685919#011validation-merror:0.718723\u001b[0m\n",
      "\u001b[34m[50]#011train-merror:0.68545#011validation-merror:0.718575\u001b[0m\n",
      "\u001b[34m[51]#011train-merror:0.684945#011validation-merror:0.718456\u001b[0m\n",
      "\u001b[34m[52]#011train-merror:0.684598#011validation-merror:0.718433\u001b[0m\n",
      "\u001b[34m[53]#011train-merror:0.684162#011validation-merror:0.718518\u001b[0m\n",
      "\u001b[34m[54]#011train-merror:0.683594#011validation-merror:0.718273\u001b[0m\n",
      "\u001b[34m[55]#011train-merror:0.68311#011validation-merror:0.718194\u001b[0m\n",
      "\u001b[34m[56]#011train-merror:0.682567#011validation-merror:0.718256\u001b[0m\n",
      "\u001b[34m[57]#011train-merror:0.68224#011validation-merror:0.718177\u001b[0m\n",
      "\u001b[34m[58]#011train-merror:0.681619#011validation-merror:0.718285\u001b[0m\n",
      "\u001b[34m[59]#011train-merror:0.681325#011validation-merror:0.71833\u001b[0m\n",
      "\u001b[34m[60]#011train-merror:0.68099#011validation-merror:0.718194\u001b[0m\n",
      "\u001b[34m[61]#011train-merror:0.68068#011validation-merror:0.718114\u001b[0m\n",
      "\u001b[34m[62]#011train-merror:0.680297#011validation-merror:0.718011\u001b[0m\n",
      "\u001b[34m[63]#011train-merror:0.67987#011validation-merror:0.718046\u001b[0m\n",
      "\u001b[34m[64]#011train-merror:0.679463#011validation-merror:0.717846\u001b[0m\n",
      "\u001b[34m[65]#011train-merror:0.679095#011validation-merror:0.717841\u001b[0m\n",
      "\u001b[34m[66]#011train-merror:0.678699#011validation-merror:0.717624\u001b[0m\n",
      "\u001b[34m[67]#011train-merror:0.678403#011validation-merror:0.717601\u001b[0m\n",
      "\u001b[34m[68]#011train-merror:0.678116#011validation-merror:0.717471\u001b[0m\n",
      "\u001b[34m[69]#011train-merror:0.677569#011validation-merror:0.717493\u001b[0m\n",
      "\u001b[34m[70]#011train-merror:0.677232#011validation-merror:0.717379\u001b[0m\n",
      "\u001b[34m[71]#011train-merror:0.67693#011validation-merror:0.717197\u001b[0m\n",
      "\u001b[34m[72]#011train-merror:0.676593#011validation-merror:0.7171\u001b[0m\n",
      "\u001b[34m[73]#011train-merror:0.676245#011validation-merror:0.717004\u001b[0m\n",
      "\u001b[34m[74]#011train-merror:0.675721#011validation-merror:0.716781\u001b[0m\n",
      "\u001b[34m[75]#011train-merror:0.675344#011validation-merror:0.716651\u001b[0m\n",
      "\u001b[34m[76]#011train-merror:0.674935#011validation-merror:0.716457\u001b[0m\n",
      "\u001b[34m[77]#011train-merror:0.67444#011validation-merror:0.716377\u001b[0m\n",
      "\u001b[34m[78]#011train-merror:0.674088#011validation-merror:0.716275\u001b[0m\n",
      "\u001b[34m[79]#011train-merror:0.673599#011validation-merror:0.716166\u001b[0m\n",
      "\u001b[34m[80]#011train-merror:0.673295#011validation-merror:0.716132\u001b[0m\n",
      "\u001b[34m[81]#011train-merror:0.672804#011validation-merror:0.71607\u001b[0m\n",
      "\u001b[34m[82]#011train-merror:0.672438#011validation-merror:0.71587\u001b[0m\n",
      "\u001b[34m[83]#011train-merror:0.672167#011validation-merror:0.715825\u001b[0m\n",
      "\u001b[34m[84]#011train-merror:0.671725#011validation-merror:0.715717\u001b[0m\n",
      "\u001b[34m[85]#011train-merror:0.671274#011validation-merror:0.715728\u001b[0m\n",
      "\u001b[34m[86]#011train-merror:0.670974#011validation-merror:0.715648\u001b[0m\n",
      "\u001b[34m[87]#011train-merror:0.670605#011validation-merror:0.715597\u001b[0m\n",
      "\u001b[34m[88]#011train-merror:0.670186#011validation-merror:0.715586\u001b[0m\n",
      "\u001b[34m[89]#011train-merror:0.66986#011validation-merror:0.715517\u001b[0m\n",
      "\u001b[34m[90]#011train-merror:0.669496#011validation-merror:0.715517\u001b[0m\n",
      "\u001b[34m[91]#011train-merror:0.669187#011validation-merror:0.715432\u001b[0m\n",
      "\u001b[34m[92]#011train-merror:0.668915#011validation-merror:0.715375\u001b[0m\n",
      "\u001b[34m[93]#011train-merror:0.668563#011validation-merror:0.715284\u001b[0m\n",
      "\u001b[34m[94]#011train-merror:0.668195#011validation-merror:0.71521\u001b[0m\n",
      "\u001b[34m[95]#011train-merror:0.66786#011validation-merror:0.715227\u001b[0m\n",
      "\u001b[34m[96]#011train-merror:0.66746#011validation-merror:0.714999\u001b[0m\n",
      "\u001b[34m[97]#011train-merror:0.667144#011validation-merror:0.714942\u001b[0m\n",
      "\u001b[34m[98]#011train-merror:0.666888#011validation-merror:0.7148\u001b[0m\n",
      "\u001b[34m[99]#011train-merror:0.666492#011validation-merror:0.714692\u001b[0m\n",
      "Training seconds: 2984\n",
      "Billable seconds: 2984\n"
     ]
    }
   ],
   "source": [
    "# Attach to an existing hyperparameter tuning job, which consists of multiple training job tasks\n",
    "xgb_tuning_job_name = gridsearch.latest_tuning_job.job_name\n",
    "xgb_tuner = HyperparameterTuner.attach(xgb_tuning_job_name)\n",
    "\n",
    "# Get the best XGBoost training job name from thejob\n",
    "xgb_best_job = xgb_tuner.best_training_job()\n",
    "print(xgb_best_job)\n",
    "xgb_tuned = sagemaker.estimator.Estimator.attach(xgb_best_job)"
   ]
  },
  {
   "cell_type": "markdown",
   "metadata": {},
   "source": [
    "## Alternative: to manually do the attachment of the best train job from gridearch\n",
    "job_name = 'sagemaker-xgboost-200204-1841-002-fc901d44' # the one with the best eval metric\n",
    "xgb_tuned = sagemaker.estimator.Estimator.attach(job_name)"
   ]
  },
  {
   "cell_type": "code",
   "execution_count": 6,
   "metadata": {},
   "outputs": [
    {
     "name": "stdout",
     "output_type": "stream",
     "text": [
      "-----------------------!"
     ]
    },
    {
     "data": {
      "text/plain": [
       "<sagemaker.predictor.RealTimePredictor at 0x7f9b1b9e8a20>"
      ]
     },
     "execution_count": 6,
     "metadata": {},
     "output_type": "execute_result"
    }
   ],
   "source": [
    "xgb_tuned.deploy(initial_instance_count=1, instance_type='ml.t2.medium')"
   ]
  },
  {
   "cell_type": "code",
   "execution_count": 7,
   "metadata": {},
   "outputs": [],
   "source": [
    "# invoke endpoint and make prediciton\n",
    "endpt_predictor=sagemaker.predictor.RealTimePredictor(endpoint=job_name)\n",
    "endpt_predictor.content_type='text/csv'\n",
    "endpt_predictor.serializer=csv_serializer\n",
    "endpt_predictor.deserializer= None"
   ]
  },
  {
   "cell_type": "code",
   "execution_count": 17,
   "metadata": {},
   "outputs": [
    {
     "name": "stdout",
     "output_type": "stream",
     "text": [
      "['Jan', 'Feb', 'March', 'April', 'May', 'June', 'July', 'Aug', 'Sep', 'Oct', 'Nov', 'Dec', 'BAYVIEW', 'CENTRAL', 'INGLESIDE', 'MISSION', 'NORTHERN', 'PARK', 'RICHMOND', 'SOUTHERN', 'TARAVAL', 'TENDERLOIN', 'hour', 'Y', 'X']\n"
     ]
    }
   ],
   "source": [
    "select_cols=cols[1:]\n",
    "print(select_cols)\n",
    "arr_val=validation[select_cols][-10:].values\n",
    "pred_result=endpt_predictor.predict(arr_val).decode(\"utf-8\").split(',')"
   ]
  },
  {
   "cell_type": "code",
   "execution_count": 31,
   "metadata": {},
   "outputs": [
    {
     "data": {
      "text/plain": [
       "[16, 20, 21, 7, 19, 16, 20, 7, 16, 16]"
      ]
     },
     "execution_count": 31,
     "metadata": {},
     "output_type": "execute_result"
    }
   ],
   "source": [
    "pred_result=list(map(float, pred_result))\n",
    "results = [int(i) for i in pred_result]\n",
    "results"
   ]
  },
  {
   "cell_type": "code",
   "execution_count": null,
   "metadata": {},
   "outputs": [],
   "source": []
  }
 ],
 "metadata": {
  "kernelspec": {
   "display_name": "Python 3",
   "language": "python",
   "name": "python3"
  },
  "language_info": {
   "codemirror_mode": {
    "name": "ipython",
    "version": 3
   },
   "file_extension": ".py",
   "mimetype": "text/x-python",
   "name": "python",
   "nbconvert_exporter": "python",
   "pygments_lexer": "ipython3",
   "version": "3.7.4"
  }
 },
 "nbformat": 4,
 "nbformat_minor": 2
}
